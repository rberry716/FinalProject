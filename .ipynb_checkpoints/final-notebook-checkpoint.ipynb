{
 "cells": [
  {
   "cell_type": "markdown",
   "id": "6b2984d8-3ea5-48b5-9cf8-ef240f57c8b8",
   "metadata": {},
   "source": [
    " # Introduction"
   ]
  },
  {
   "cell_type": "markdown",
   "id": "0ffebcd2-197b-46f7-95d8-048d986170e6",
   "metadata": {},
   "source": [
    "For this project we were instructed to come up with a metric to decide what the best neighborhood in Pittsburgh was. After deciding, we had to find datasets of submetrics which were analyzed to discover the best neighborhood. We decided on the metric of safety because that was the most important metric to all of us when deciding where to live. Without having a secure area it becomes hard to have good restaurants, schools, and so much more. Some alternatives we talked about were transportation and schooling."
   ]
  },
  {
   "cell_type": "markdown",
   "id": "f8323336-fe03-43c2-a6f5-77c6f13e4564",
   "metadata": {},
   "source": [
    "# The Metric"
   ]
  },
  {
   "cell_type": "markdown",
   "id": "9397405a-99ec-4748-82a8-4d00aff83bfe",
   "metadata": {},
   "source": [
    "The metric we chose was safety. In order to assess the safest neighborhood in Pittsburgh, we looked at fire data, crime reports, and non-traffic citations. The fire data set displayed every fire call made and what area it was in as well as the fire types and alarm times. The crime reports showcased the demographics of the offendant, time, location and description of the arrests. The non-traffic citations showed all of the citations locations and the demographics of the offendant. For each dataset we looked the frequency of fires, arrests, or citations in each of the given neighborhoods. By combining the data from these datasets, we aim to identify neighborhoods with fewer incidents, helping to gauge relative safety levels across Pittsburgh."
   ]
  },
  {
   "cell_type": "markdown",
   "id": "3cfded45-99c1-40f3-aca0-a48daeb1026b",
   "metadata": {},
   "source": [
    "# The Best Neighborhood"
   ]
  },
  {
   "cell_type": "markdown",
   "id": "1dc7d6a3-a7e4-4b09-b181-37c5b32565d2",
   "metadata": {},
   "source": [
    "Based on data collected from each of our individual submetric datasets, we concluded that Mount Oliver Borough is the safest neighborhood in Pittsburgh. When reviewing the bar graph of police arrest data, we see that Mount Oliver has the third-fewest arrests out of 98 total neighborhoods, positioning it as one of the top three safest neighborhoods. In the second dataset, which covers non-traffic citations, Mount Oliver has the second-fewest citations among 43 neighborhoods. Finally, in the fire occurrence dataset, Mount Oliver Borough has the fewest fire incidents overall.\n",
    "\n",
    "It’s important to explain why we chose Mount Oliver Borough as the safest neighborhood, even though it didn’t rank first in every category. Chartiers City has the fewest citations but ranks only ninth in arrests and tenth in fire incidents, both well above Mount Oliver. Similarly, Troy Hill-Herrs Island has the fewest arrests, yet ranks fourth-highest in non-traffic citations, and doesn’t even fall within the top 30 neighborhoods for fewest fires. Additionally, while Mount Oliver Neighborhood has the second-fewest arrests, it ranks fourth in non-traffic citations and fifth in fire incidents. Overall, Mount Oliver Borough consistently ranks near the top across all categories, making it the safest neighborhood according to our analysis."
   ]
  },
  {
   "cell_type": "markdown",
   "id": "86b3dae6-784c-470f-9478-79f309eda164",
   "metadata": {},
   "source": [
    "# Conclusion"
   ]
  },
  {
   "cell_type": "markdown",
   "id": "4ae568c5-ad37-4ad4-a904-481524e7bde1",
   "metadata": {},
   "source": [
    "Kylie: The data-driven determination for the best neighborhood is different than my personal favorite neighborhood. \r\n",
    "\r\n",
    "While the data points to Mount Oliver Borough as the safest neighborhood, my personal favorite neighborhood is Squirrel Hing. Even though it might not rank highest in terms of safety metrics like low crime or fire incidents, Squirrel Hill good has qualities that go beyjust safety ata—like its accessibility, variety of amenities, and the overall atmosphere that makesa fun place to be.ive."
   ]
  }
 ],
 "metadata": {
  "kernelspec": {
   "display_name": "Python 3 (ipykernel)",
   "language": "python",
   "name": "python3"
  },
  "language_info": {
   "codemirror_mode": {
    "name": "ipython",
    "version": 3
   },
   "file_extension": ".py",
   "mimetype": "text/x-python",
   "name": "python",
   "nbconvert_exporter": "python",
   "pygments_lexer": "ipython3",
   "version": "3.12.4"
  }
 },
 "nbformat": 4,
 "nbformat_minor": 5
}
